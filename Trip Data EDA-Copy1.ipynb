{
 "cells": [
  {
   "cell_type": "code",
   "execution_count": 1,
   "id": "fuzzy-afternoon",
   "metadata": {},
   "outputs": [],
   "source": [
    "import os\n",
    "import pandas as pd\n",
    "import seaborn as sns\n",
    "import matplotlib.pyplot as plt"
   ]
  },
  {
   "cell_type": "code",
   "execution_count": 2,
   "id": "distinct-morocco",
   "metadata": {},
   "outputs": [],
   "source": [
    "import numpy as np"
   ]
  },
  {
   "cell_type": "code",
   "execution_count": 99,
   "id": "uniform-richards",
   "metadata": {},
   "outputs": [
    {
     "name": "stdout",
     "output_type": "stream",
     "text": [
      "Requirement already satisfied: pandas in d:\\anaconda3\\envs\\tf-gpu\\lib\\site-packages (1.5.1)\n",
      "Requirement already satisfied: pytz>=2020.1 in d:\\anaconda3\\envs\\tf-gpu\\lib\\site-packages (from pandas) (2022.1)\n",
      "Requirement already satisfied: numpy>=1.20.3 in d:\\anaconda3\\envs\\tf-gpu\\lib\\site-packages (from pandas) (1.23.4)\n",
      "Requirement already satisfied: python-dateutil>=2.8.1 in d:\\anaconda3\\envs\\tf-gpu\\lib\\site-packages (from pandas) (2.8.1)\n",
      "Requirement already satisfied: six>=1.5 in d:\\anaconda3\\envs\\tf-gpu\\lib\\site-packages (from python-dateutil>=2.8.1->pandas) (1.15.0)\n",
      "Note: you may need to restart the kernel to use updated packages.\n"
     ]
    }
   ],
   "source": [
    "pip install pandas --upgrade"
   ]
  },
  {
   "cell_type": "markdown",
   "id": "understood-texas",
   "metadata": {},
   "source": [
    "## Data Preprocessing"
   ]
  },
  {
   "cell_type": "markdown",
   "id": "restricted-singapore",
   "metadata": {},
   "source": [
    "Combining all files into a single dataframe"
   ]
  },
  {
   "cell_type": "code",
   "execution_count": 48,
   "id": "solar-marine",
   "metadata": {},
   "outputs": [],
   "source": [
    "trip_data = pd.DataFrame()"
   ]
  },
  {
   "cell_type": "code",
   "execution_count": 4,
   "id": "disciplinary-trash",
   "metadata": {},
   "outputs": [],
   "source": [
    "stations_df = pd.read_csv('Divvy_Bicycle_Stations_-_In_Service.csv')"
   ]
  },
  {
   "cell_type": "code",
   "execution_count": 59,
   "id": "tough-vitamin",
   "metadata": {},
   "outputs": [
    {
     "data": {
      "text/plain": [
       "Index(['ID', 'Station Name', 'Total Docks', 'Docks in Service', 'Status',\n",
       "       'Latitude', 'Longitude', 'Location'],\n",
       "      dtype='object')"
      ]
     },
     "execution_count": 59,
     "metadata": {},
     "output_type": "execute_result"
    }
   ],
   "source": [
    "stations_df.columns"
   ]
  },
  {
   "cell_type": "markdown",
   "id": "afraid-variation",
   "metadata": {},
   "source": [
    "### Unifying Columns\n",
    "The dataset was split into files and the files before the year 2020 had columns different than the data afer 2020. The function below drops unneeded columns and renames columns to create a dataset of unified columns"
   ]
  },
  {
   "cell_type": "code",
   "execution_count": 15,
   "id": "monthly-green",
   "metadata": {},
   "outputs": [],
   "source": [
    "drop_columns = ['01 - Rental Details Rental ID','01 - Rental Details Bike ID',\n",
    "                '01 - Rental Details Duration In Seconds Uncapped',\n",
    "                'User Type', 'Member Gender',\n",
    "                '05 - Member Details Member Birthday Year', 'trip_id', 'bikeid', 'tripduration',\n",
    "                'usertype', 'gender', 'birthyear', 'member_casual', 'ride_id']"
   ]
  },
  {
   "cell_type": "code",
   "execution_count": 13,
   "id": "smart-sister",
   "metadata": {},
   "outputs": [],
   "source": [
    "def manage_columns(f):\n",
    "    global drop_columns\n",
    "    d = pd.read_csv(f)\n",
    "    if 'from_station_id' in d.columns:\n",
    "        d.rename(columns={\"from_station_id\":\"start_station_id\", \"to_station_id\":\"end_station_id\", \n",
    "                      \"from_station_name\":\"start_station_name\", \"to_station_name\":\"end_station_name\"}, inplace=True)\n",
    "    if \"03 - Rental Start Station ID\" in d.columns:\n",
    "        d.rename(columns={\"03 - Rental Start Station ID\":\"start_station_id\", \"02 - Rental End Station ID\":\"end_station_id\", \n",
    "                      \"03 - Rental Start Station Name\":\"start_station_name\", \"02 - Rental End Station Name\":\"end_station_name\", \n",
    "                    \"01 - Rental Details Local Start Time\":\"start_time\", \"01 - Rental Details Local End Time\":\"end_time\"}, inplace=True)\n",
    "    if \"started_at\" in d.columns:\n",
    "        d.rename(columns={\"started_at\":\"start_time\", \"ended_at\":\"end_time\"}, inplace=True)\n",
    "    d = d.drop(drop_columns, axis=1, errors='ignore')\n",
    "#     print(\"Current dataset \", f)\n",
    "#     print(d.columns)\n",
    "    return d"
   ]
  },
  {
   "cell_type": "markdown",
   "id": "moved-actress",
   "metadata": {},
   "source": [
    "### Imputing missing values\n",
    "The function below fills in missing station name values using the coordinate information given in the dataset to find the nearest station using the Divvy Stations Dataset taking from Chicago Data Portal."
   ]
  },
  {
   "cell_type": "code",
   "execution_count": 456,
   "id": "opened-football",
   "metadata": {},
   "outputs": [
    {
     "name": "stdout",
     "output_type": "stream",
     "text": [
      "Wall time: 1 ms\n"
     ]
    }
   ],
   "source": [
    "%%time\n",
    "def prepare_dataset(f):\n",
    "    \n",
    "    global trip_data    \n",
    "    df = manage_columns(f)\n",
    "    \n",
    "    if not 'start_lat' in df.columns:\n",
    "        df = df.dropna(subset=['start_station_name', 'end_station_name'])\n",
    "        return df\n",
    "    \n",
    "    empty_idx = []\n",
    "    start_empty_idx = []\n",
    "    end_empty_idx = []\n",
    "    \n",
    "    for i in range(len(df)):\n",
    "        if pd.isna(df.iloc[i,3]) and pd.isna(df.iloc[i,5]) and pd.isna(df.iloc[i,7]) and pd.isna(df.iloc[i,8]) and pd.isna(df.iloc[i,9]) and pd.isna(df.iloc[i,10]):\n",
    "            empty_idx.append(i)\n",
    "            \n",
    "        if pd.isna(df.iloc[i,3]) and not pd.isna(df.iloc[i,7]) and not pd.isna(df.iloc[i,8]):\n",
    "            start_empty_idx.append(i)\n",
    "        \n",
    "        if pd.isna(df.iloc[i,5]) and not pd.isna(df.iloc[i,9]) and not pd.isna(df.iloc[i,10]):\n",
    "            end_empty_idx.append(i)\n",
    "    df = df.drop(empty_idx)\n",
    "\n",
    "    for idx in start_empty_idx:        \n",
    "        min_dist = np.inf\n",
    "        station_index = 0\n",
    "        for i in range(len(stations_df)):\n",
    "            dist = (stations_df.iloc[i,5] - df.iloc[idx,7])**2 + (stations_df.iloc[i,6] - df.iloc[idx,8])**2\n",
    "            if dist < min_dist:\n",
    "                min_dist = dist\n",
    "                station_index = i\n",
    "        df.iloc[idx,3] = stations_df.iloc[station_index,1]\n",
    "            \n",
    "    for idx in end_empty_idx:\n",
    "        min_dist = np.inf\n",
    "        station_index = 0\n",
    "        for i in range(len(stations_df)):\n",
    "            dist = (stations_df.iloc[i,5] - df.iloc[idx,9])**2 + (stations_df.iloc[i,6] - df.iloc[idx,10])**2\n",
    "            if dist < min_dist:\n",
    "                min_dist = dist\n",
    "                station_index = i\n",
    "        df.iloc[idx,5] = stations_df.iloc[station_index,1]\n",
    "    \n",
    "    print(\"------------------------- df shape \", df.shape, \" -------------------------\")\n",
    "    \n",
    "    return df"
   ]
  },
  {
   "cell_type": "markdown",
   "id": "demanding-registration",
   "metadata": {},
   "source": [
    "Below it can be seen the amount of time taken to preprocess few of the dataset files. The amount of time taken to preprocess the entirety of the dataset is around 7 days."
   ]
  },
  {
   "cell_type": "code",
   "execution_count": 495,
   "id": "indie-glenn",
   "metadata": {
    "scrolled": true
   },
   "outputs": [
    {
     "name": "stdout",
     "output_type": "stream",
     "text": [
      "------------------------- Preprocessing dataset  trip-data/202208-divvy-tripdata.csv  -------------------------\n",
      "------------------------- df shape  (785932, 11)  -------------------------\n",
      "Wall time: 8h 46min 26s\n"
     ]
    },
    {
     "data": {
      "text/plain": [
       "rideable_type              0\n",
       "start_time                 0\n",
       "end_time                   0\n",
       "start_station_name         0\n",
       "start_station_id      112037\n",
       "end_station_name         843\n",
       "end_station_id        120522\n",
       "start_lat                  0\n",
       "start_lng                  0\n",
       "end_lat                  843\n",
       "end_lng                  843\n",
       "dtype: int64"
      ]
     },
     "execution_count": 495,
     "metadata": {},
     "output_type": "execute_result"
    }
   ],
   "source": [
    "%%time\n",
    "d_test = prepare_dataset('trip-data/202208-divvy-tripdata.csv')\n",
    "d_test.isna().sum()"
   ]
  },
  {
   "cell_type": "code",
   "execution_count": 412,
   "id": "major-batch",
   "metadata": {
    "scrolled": false
   },
   "outputs": [
    {
     "data": {
      "text/plain": [
       "rideable_type         0\n",
       "start_time            0\n",
       "end_time              0\n",
       "start_station_name    0\n",
       "start_station_id      0\n",
       "end_station_name      0\n",
       "end_station_id        0\n",
       "start_lat             0\n",
       "start_lng             0\n",
       "end_lat               0\n",
       "end_lng               0\n",
       "dtype: int64"
      ]
     },
     "execution_count": 412,
     "metadata": {},
     "output_type": "execute_result"
    }
   ],
   "source": [
    "d_test = d_test.dropna()\n",
    "d_test.isna().sum()"
   ]
  },
  {
   "cell_type": "code",
   "execution_count": 497,
   "id": "numeric-vision",
   "metadata": {},
   "outputs": [
    {
     "name": "stdout",
     "output_type": "stream",
     "text": [
      "(11842540, 11)\n"
     ]
    }
   ],
   "source": [
    "new_trip_test = new_trip_test.append(d_test)\n",
    "# new_trip_test = d_test\n",
    "print(new_trip_test.shape)\n",
    "new_trip_test.to_csv('trip-data-processed-new.csv', index=False)"
   ]
  },
  {
   "cell_type": "code",
   "execution_count": 503,
   "id": "excited-office",
   "metadata": {},
   "outputs": [
    {
     "name": "stdout",
     "output_type": "stream",
     "text": [
      "------------------------- Preprocessing dataset  trip-data/202207-divvy-tripdata.csv  -------------------------\n",
      "------------------------- df shape  (823488, 11)  -------------------------\n",
      "Wall time: 8h 45min 25s\n"
     ]
    },
    {
     "data": {
      "text/plain": [
       "rideable_type              0\n",
       "start_time                 0\n",
       "end_time                   0\n",
       "start_station_name         0\n",
       "start_station_id      112031\n",
       "end_station_name         947\n",
       "end_station_id        120951\n",
       "start_lat                  0\n",
       "start_lng                  0\n",
       "end_lat                  947\n",
       "end_lng                  947\n",
       "dtype: int64"
      ]
     },
     "execution_count": 503,
     "metadata": {},
     "output_type": "execute_result"
    }
   ],
   "source": [
    "%%time\n",
    "d_test = prepare_dataset('trip-data/202207-divvy-tripdata.csv')\n",
    "d_test.isna().sum()"
   ]
  },
  {
   "cell_type": "code",
   "execution_count": 505,
   "id": "loved-latest",
   "metadata": {},
   "outputs": [
    {
     "name": "stdout",
     "output_type": "stream",
     "text": [
      "(12666028, 11)\n"
     ]
    }
   ],
   "source": [
    "new_trip_test = new_trip_test.append(d_test)\n",
    "print(new_trip_test.shape)\n",
    "new_trip_test.to_csv('trip-data-processed-new.csv', index=False)"
   ]
  },
  {
   "cell_type": "code",
   "execution_count": 3,
   "id": "pregnant-joining",
   "metadata": {},
   "outputs": [
    {
     "name": "stderr",
     "output_type": "stream",
     "text": [
      "D:\\anaconda3\\envs\\tf-gpu\\lib\\site-packages\\IPython\\core\\interactiveshell.py:3146: DtypeWarning: Columns (2,4,6) have mixed types.Specify dtype option on import or set low_memory=False.\n",
      "  has_raised = await self.run_ast_nodes(code_ast.body, cell_name,\n"
     ]
    },
    {
     "data": {
      "text/plain": [
       "(12666028, 11)"
      ]
     },
     "execution_count": 3,
     "metadata": {},
     "output_type": "execute_result"
    }
   ],
   "source": [
    "new_trip_test = pd.read_csv('trip-data-processed-new.csv')\n",
    "new_trip_test.shape"
   ]
  },
  {
   "cell_type": "code",
   "execution_count": 40,
   "id": "later-malpractice",
   "metadata": {},
   "outputs": [
    {
     "data": {
      "text/plain": [
       "(14677608, 11)"
      ]
     },
     "execution_count": 40,
     "metadata": {},
     "output_type": "execute_result"
    }
   ],
   "source": [
    "new_trip_test = new_trip_test.append(df)\n",
    "new_trip_test.shape"
   ]
  },
  {
   "cell_type": "markdown",
   "id": "accessible-increase",
   "metadata": {},
   "source": [
    "## EDA"
   ]
  },
  {
   "cell_type": "code",
   "execution_count": 4,
   "id": "stock-boating",
   "metadata": {},
   "outputs": [],
   "source": [
    "test_trip = new_trip_test.copy()"
   ]
  },
  {
   "cell_type": "code",
   "execution_count": 6,
   "id": "congressional-immune",
   "metadata": {},
   "outputs": [
    {
     "data": {
      "text/plain": [
       "(14677608, 12)"
      ]
     },
     "execution_count": 6,
     "metadata": {},
     "output_type": "execute_result"
    }
   ],
   "source": [
    "test_trip.shape"
   ]
  },
  {
   "cell_type": "code",
   "execution_count": 6,
   "id": "optical-amateur",
   "metadata": {},
   "outputs": [],
   "source": [
    "test_trip['start_year'] = test_trip['start_time'].apply(lambda x : x[:4])"
   ]
  },
  {
   "cell_type": "code",
   "execution_count": 8,
   "id": "sharp-target",
   "metadata": {},
   "outputs": [
    {
     "data": {
      "text/plain": [
       "2022    3888152\n",
       "2019    3818004\n",
       "2018    3603082\n",
       "2020    2760852\n",
       "2021     607518\n",
       "Name: start_year, dtype: int64"
      ]
     },
     "execution_count": 8,
     "metadata": {},
     "output_type": "execute_result"
    }
   ],
   "source": [
    "test_trip['start_year'].value_counts()"
   ]
  },
  {
   "cell_type": "code",
   "execution_count": 10,
   "id": "elegant-ottawa",
   "metadata": {},
   "outputs": [
    {
     "data": {
      "text/html": [
       "<div>\n",
       "<style scoped>\n",
       "    .dataframe tbody tr th:only-of-type {\n",
       "        vertical-align: middle;\n",
       "    }\n",
       "\n",
       "    .dataframe tbody tr th {\n",
       "        vertical-align: top;\n",
       "    }\n",
       "\n",
       "    .dataframe thead th {\n",
       "        text-align: right;\n",
       "    }\n",
       "</style>\n",
       "<table border=\"1\" class=\"dataframe\">\n",
       "  <thead>\n",
       "    <tr style=\"text-align: right;\">\n",
       "      <th></th>\n",
       "      <th>start_year</th>\n",
       "      <th>start_station_name</th>\n",
       "    </tr>\n",
       "  </thead>\n",
       "  <tbody>\n",
       "    <tr>\n",
       "      <th>0</th>\n",
       "      <td>2018</td>\n",
       "      <td>Damen Ave &amp; Pierce Ave</td>\n",
       "    </tr>\n",
       "    <tr>\n",
       "      <th>1</th>\n",
       "      <td>2018</td>\n",
       "      <td>Winthrop Ave &amp; Lawrence Ave</td>\n",
       "    </tr>\n",
       "    <tr>\n",
       "      <th>2</th>\n",
       "      <td>2018</td>\n",
       "      <td>LaSalle St &amp; Washington St</td>\n",
       "    </tr>\n",
       "    <tr>\n",
       "      <th>3</th>\n",
       "      <td>2018</td>\n",
       "      <td>Rush St &amp; Hubbard St</td>\n",
       "    </tr>\n",
       "    <tr>\n",
       "      <th>4</th>\n",
       "      <td>2018</td>\n",
       "      <td>Blue Island Ave &amp; 18th St</td>\n",
       "    </tr>\n",
       "  </tbody>\n",
       "</table>\n",
       "</div>"
      ],
      "text/plain": [
       "  start_year           start_station_name\n",
       "0       2018       Damen Ave & Pierce Ave\n",
       "1       2018  Winthrop Ave & Lawrence Ave\n",
       "2       2018   LaSalle St & Washington St\n",
       "3       2018         Rush St & Hubbard St\n",
       "4       2018    Blue Island Ave & 18th St"
      ]
     },
     "execution_count": 10,
     "metadata": {},
     "output_type": "execute_result"
    }
   ],
   "source": [
    "test_trip_start_station_year = test_trip[['start_year', 'start_station_name']]\n",
    "test_trip_start_station_year.head()"
   ]
  },
  {
   "cell_type": "code",
   "execution_count": 57,
   "id": "enclosed-powder",
   "metadata": {},
   "outputs": [
    {
     "data": {
      "text/html": [
       "<div>\n",
       "<style scoped>\n",
       "    .dataframe tbody tr th:only-of-type {\n",
       "        vertical-align: middle;\n",
       "    }\n",
       "\n",
       "    .dataframe tbody tr th {\n",
       "        vertical-align: top;\n",
       "    }\n",
       "\n",
       "    .dataframe thead th {\n",
       "        text-align: right;\n",
       "    }\n",
       "</style>\n",
       "<table border=\"1\" class=\"dataframe\">\n",
       "  <thead>\n",
       "    <tr style=\"text-align: right;\">\n",
       "      <th></th>\n",
       "      <th>start_year</th>\n",
       "      <th>start_station_name</th>\n",
       "      <th>count</th>\n",
       "    </tr>\n",
       "  </thead>\n",
       "  <tbody>\n",
       "    <tr>\n",
       "      <th>1183</th>\n",
       "      <td>2019</td>\n",
       "      <td>Streeter Dr &amp; Grand Ave</td>\n",
       "      <td>67983</td>\n",
       "    </tr>\n",
       "    <tr>\n",
       "      <th>547</th>\n",
       "      <td>2018</td>\n",
       "      <td>Streeter Dr &amp; Grand Ave</td>\n",
       "      <td>66944</td>\n",
       "    </tr>\n",
       "    <tr>\n",
       "      <th>4641</th>\n",
       "      <td>2022</td>\n",
       "      <td>Streeter Dr &amp; Grand Ave</td>\n",
       "      <td>63249</td>\n",
       "    </tr>\n",
       "    <tr>\n",
       "      <th>83</th>\n",
       "      <td>2018</td>\n",
       "      <td>Canal St &amp; Adams St</td>\n",
       "      <td>62654</td>\n",
       "    </tr>\n",
       "    <tr>\n",
       "      <th>708</th>\n",
       "      <td>2019</td>\n",
       "      <td>Canal St &amp; Adams St</td>\n",
       "      <td>54389</td>\n",
       "    </tr>\n",
       "    <tr>\n",
       "      <th>...</th>\n",
       "      <td>...</td>\n",
       "      <td>...</td>\n",
       "      <td>...</td>\n",
       "    </tr>\n",
       "    <tr>\n",
       "      <th>1764</th>\n",
       "      <td>2020</td>\n",
       "      <td>Narragansett &amp; Wrightwood</td>\n",
       "      <td>1</td>\n",
       "    </tr>\n",
       "    <tr>\n",
       "      <th>3530</th>\n",
       "      <td>2022</td>\n",
       "      <td>Damen Ave &amp; 84th St</td>\n",
       "      <td>1</td>\n",
       "    </tr>\n",
       "    <tr>\n",
       "      <th>3529</th>\n",
       "      <td>2022</td>\n",
       "      <td>Damen Ave &amp; 80th St</td>\n",
       "      <td>1</td>\n",
       "    </tr>\n",
       "    <tr>\n",
       "      <th>3522</th>\n",
       "      <td>2022</td>\n",
       "      <td>DIVVY CASSETTE REPAIR MOBILE STATION</td>\n",
       "      <td>1</td>\n",
       "    </tr>\n",
       "    <tr>\n",
       "      <th>1814</th>\n",
       "      <td>2020</td>\n",
       "      <td>Public Rack - Buffalo Ave &amp; 89th St</td>\n",
       "      <td>1</td>\n",
       "    </tr>\n",
       "  </tbody>\n",
       "</table>\n",
       "<p>4799 rows × 3 columns</p>\n",
       "</div>"
      ],
      "text/plain": [
       "     start_year                    start_station_name  count\n",
       "1183       2019               Streeter Dr & Grand Ave  67983\n",
       "547        2018               Streeter Dr & Grand Ave  66944\n",
       "4641       2022               Streeter Dr & Grand Ave  63249\n",
       "83         2018                   Canal St & Adams St  62654\n",
       "708        2019                   Canal St & Adams St  54389\n",
       "...         ...                                   ...    ...\n",
       "1764       2020             Narragansett & Wrightwood      1\n",
       "3530       2022                   Damen Ave & 84th St      1\n",
       "3529       2022                   Damen Ave & 80th St      1\n",
       "3522       2022  DIVVY CASSETTE REPAIR MOBILE STATION      1\n",
       "1814       2020   Public Rack - Buffalo Ave & 89th St      1\n",
       "\n",
       "[4799 rows x 3 columns]"
      ]
     },
     "execution_count": 57,
     "metadata": {},
     "output_type": "execute_result"
    }
   ],
   "source": [
    "start_station_use_by_year_frame = start_station_use_by_year.to_frame()\n",
    "start_station_use_by_year_frame.columns = [*start_station_use_by_year_frame.columns[:-1], 'count']\n",
    "start_station_use_by_year_frame = start_station_use_by_year_frame.reset_index()\n",
    "start_station_use_by_year_frame_sorted = start_station_use_by_year_frame.sort_values(by='count',ascending=False)\n",
    "start_station_use_by_year_frame_sorted"
   ]
  },
  {
   "cell_type": "code",
   "execution_count": 61,
   "id": "chronic-landscape",
   "metadata": {},
   "outputs": [],
   "source": [
    "start_station_use_by_year_frame_sorted_2018 = start_station_use_by_year_frame_sorted[start_station_use_by_year_frame_sorted['start_year']=='2018'].head()\n",
    "start_station_use_by_year_frame_sorted_2019 = start_station_use_by_year_frame_sorted[start_station_use_by_year_frame_sorted['start_year']=='2019'].head()\n",
    "start_station_use_by_year_frame_sorted_2020 = start_station_use_by_year_frame_sorted[start_station_use_by_year_frame_sorted['start_year']=='2020'].head()\n",
    "start_station_use_by_year_frame_sorted_2021 = start_station_use_by_year_frame_sorted[start_station_use_by_year_frame_sorted['start_year']=='2021'].head()\n",
    "start_station_use_by_year_frame_sorted_2022 = start_station_use_by_year_frame_sorted[start_station_use_by_year_frame_sorted['start_year']=='2022'].head()"
   ]
  },
  {
   "cell_type": "code",
   "execution_count": 65,
   "id": "lasting-excuse",
   "metadata": {},
   "outputs": [],
   "source": [
    "start_station_use_all_years = pd.concat([start_station_use_by_year_frame_sorted_2018, \n",
    "                                        start_station_use_by_year_frame_sorted_2019,\n",
    "                                        start_station_use_by_year_frame_sorted_2020,\n",
    "                                        start_station_use_by_year_frame_sorted_2021,\n",
    "                                        start_station_use_by_year_frame_sorted_2022], ignore_index=True)"
   ]
  },
  {
   "cell_type": "markdown",
   "id": "existing-glance",
   "metadata": {},
   "source": [
    "### Top 5 utilized stations by year"
   ]
  },
  {
   "cell_type": "code",
   "execution_count": 92,
   "id": "threaded-cylinder",
   "metadata": {},
   "outputs": [
    {
     "data": {
      "image/png": "[encoded data removed]",
      "text/plain": [
       "<Figure size 1152x1152 with 6 Axes>"
      ]
     },
     "metadata": {
      "needs_background": "light"
     },
     "output_type": "display_data"
    }
   ],
   "source": [
    "fig, ((ax1, ax2), (ax3, ax4), (ax5, ax6)) = plt.subplots(3,2)\n",
    "fig.set_figwidth(16)\n",
    "fig.set_figheight(16)\n",
    "fig.subplots_adjust(hspace=.5)\n",
    "sns.barplot(data=start_station_use_by_year_frame_sorted_2018, x=\"start_station_name\", y=\"count\", ax=ax1).set(title=\"2018\")\n",
    "sns.barplot(data=start_station_use_by_year_frame_sorted_2019, x=\"start_station_name\", y=\"count\", ax=ax2).set(title=\"2019\")\n",
    "sns.barplot(data=start_station_use_by_year_frame_sorted_2020, x=\"start_station_name\", y=\"count\", ax=ax3).set(title=\"2020\")\n",
    "sns.barplot(data=start_station_use_by_year_frame_sorted_2021, x=\"start_station_name\", y=\"count\", ax=ax4).set(title=\"2021\")\n",
    "sns.barplot(data=start_station_use_by_year_frame_sorted_2022, x=\"start_station_name\", y=\"count\", ax=ax5).set(title=\"2022\")\n",
    "# ax1.set_xticklabels(ax1.get_xticks, rotation=45)\n",
    "\n",
    "for tick in ax1.get_xticklabels():\n",
    "    tick.set_rotation(12)\n",
    "\n",
    "for tick in ax2.get_xticklabels():\n",
    "    tick.set_rotation(12)\n",
    "    \n",
    "for tick in ax3.get_xticklabels():\n",
    "    tick.set_rotation(12)\n",
    "    \n",
    "for tick in ax4.get_xticklabels():\n",
    "    tick.set_rotation(12)\n",
    "    \n",
    "for tick in ax5.get_xticklabels():\n",
    "    tick.set_rotation(12)\n"
   ]
  },
  {
   "cell_type": "code",
   "execution_count": 20,
   "id": "pointed-rider",
   "metadata": {},
   "outputs": [
    {
     "data": {
      "text/html": [
       "<div>\n",
       "<style scoped>\n",
       "    .dataframe tbody tr th:only-of-type {\n",
       "        vertical-align: middle;\n",
       "    }\n",
       "\n",
       "    .dataframe tbody tr th {\n",
       "        vertical-align: top;\n",
       "    }\n",
       "\n",
       "    .dataframe thead th {\n",
       "        text-align: right;\n",
       "    }\n",
       "</style>\n",
       "<table border=\"1\" class=\"dataframe\">\n",
       "  <thead>\n",
       "    <tr style=\"text-align: right;\">\n",
       "      <th></th>\n",
       "      <th>start_year</th>\n",
       "      <th>start_station_name</th>\n",
       "      <th>start_lat</th>\n",
       "      <th>start_lng</th>\n",
       "    </tr>\n",
       "  </thead>\n",
       "  <tbody>\n",
       "    <tr>\n",
       "      <th>0</th>\n",
       "      <td>2018</td>\n",
       "      <td>Damen Ave &amp; Pierce Ave</td>\n",
       "      <td>NaN</td>\n",
       "      <td>NaN</td>\n",
       "    </tr>\n",
       "    <tr>\n",
       "      <th>1</th>\n",
       "      <td>2018</td>\n",
       "      <td>Winthrop Ave &amp; Lawrence Ave</td>\n",
       "      <td>NaN</td>\n",
       "      <td>NaN</td>\n",
       "    </tr>\n",
       "    <tr>\n",
       "      <th>2</th>\n",
       "      <td>2018</td>\n",
       "      <td>LaSalle St &amp; Washington St</td>\n",
       "      <td>NaN</td>\n",
       "      <td>NaN</td>\n",
       "    </tr>\n",
       "    <tr>\n",
       "      <th>3</th>\n",
       "      <td>2018</td>\n",
       "      <td>Rush St &amp; Hubbard St</td>\n",
       "      <td>NaN</td>\n",
       "      <td>NaN</td>\n",
       "    </tr>\n",
       "    <tr>\n",
       "      <th>4</th>\n",
       "      <td>2018</td>\n",
       "      <td>Blue Island Ave &amp; 18th St</td>\n",
       "      <td>NaN</td>\n",
       "      <td>NaN</td>\n",
       "    </tr>\n",
       "    <tr>\n",
       "      <th>...</th>\n",
       "      <td>...</td>\n",
       "      <td>...</td>\n",
       "      <td>...</td>\n",
       "      <td>...</td>\n",
       "    </tr>\n",
       "    <tr>\n",
       "      <th>14677603</th>\n",
       "      <td>2021</td>\n",
       "      <td>Canal St &amp; Madison St</td>\n",
       "      <td>41.882289</td>\n",
       "      <td>-87.639752</td>\n",
       "    </tr>\n",
       "    <tr>\n",
       "      <th>14677604</th>\n",
       "      <td>2021</td>\n",
       "      <td>Canal St &amp; Madison St</td>\n",
       "      <td>41.882123</td>\n",
       "      <td>-87.640053</td>\n",
       "    </tr>\n",
       "    <tr>\n",
       "      <th>14677605</th>\n",
       "      <td>2021</td>\n",
       "      <td>Canal St &amp; Madison St</td>\n",
       "      <td>41.881956</td>\n",
       "      <td>-87.639955</td>\n",
       "    </tr>\n",
       "    <tr>\n",
       "      <th>14677606</th>\n",
       "      <td>2021</td>\n",
       "      <td>Lawndale Ave &amp; 16th St</td>\n",
       "      <td>41.860000</td>\n",
       "      <td>-87.720000</td>\n",
       "    </tr>\n",
       "    <tr>\n",
       "      <th>14677607</th>\n",
       "      <td>2021</td>\n",
       "      <td>Michigan Ave &amp; Jackson Blvd</td>\n",
       "      <td>41.877850</td>\n",
       "      <td>-87.624080</td>\n",
       "    </tr>\n",
       "  </tbody>\n",
       "</table>\n",
       "<p>14677608 rows × 4 columns</p>\n",
       "</div>"
      ],
      "text/plain": [
       "         start_year           start_station_name  start_lat  start_lng\n",
       "0              2018       Damen Ave & Pierce Ave        NaN        NaN\n",
       "1              2018  Winthrop Ave & Lawrence Ave        NaN        NaN\n",
       "2              2018   LaSalle St & Washington St        NaN        NaN\n",
       "3              2018         Rush St & Hubbard St        NaN        NaN\n",
       "4              2018    Blue Island Ave & 18th St        NaN        NaN\n",
       "...             ...                          ...        ...        ...\n",
       "14677603       2021        Canal St & Madison St  41.882289 -87.639752\n",
       "14677604       2021        Canal St & Madison St  41.882123 -87.640053\n",
       "14677605       2021        Canal St & Madison St  41.881956 -87.639955\n",
       "14677606       2021       Lawndale Ave & 16th St  41.860000 -87.720000\n",
       "14677607       2021  Michigan Ave & Jackson Blvd  41.877850 -87.624080\n",
       "\n",
       "[14677608 rows x 4 columns]"
      ]
     },
     "execution_count": 20,
     "metadata": {},
     "output_type": "execute_result"
    }
   ],
   "source": [
    "test_trip_k_means = test_trip.loc[:,['start_year', 'start_station_name', 'start_lat', 'start_lng']]\n",
    "test_trip_k_means"
   ]
  },
  {
   "cell_type": "code",
   "execution_count": 21,
   "id": "monetary-replacement",
   "metadata": {},
   "outputs": [],
   "source": [
    "test_trip_k_means.dropna(inplace=True)"
   ]
  },
  {
   "cell_type": "code",
   "execution_count": 45,
   "id": "brown-analysis",
   "metadata": {
    "scrolled": true
   },
   "outputs": [
    {
     "data": {
      "text/html": [
       "<div>\n",
       "<style scoped>\n",
       "    .dataframe tbody tr th:only-of-type {\n",
       "        vertical-align: middle;\n",
       "    }\n",
       "\n",
       "    .dataframe tbody tr th {\n",
       "        vertical-align: top;\n",
       "    }\n",
       "\n",
       "    .dataframe thead th {\n",
       "        text-align: right;\n",
       "    }\n",
       "</style>\n",
       "<table border=\"1\" class=\"dataframe\">\n",
       "  <thead>\n",
       "    <tr style=\"text-align: right;\">\n",
       "      <th></th>\n",
       "      <th>start_station_name</th>\n",
       "      <th>count</th>\n",
       "    </tr>\n",
       "  </thead>\n",
       "  <tbody>\n",
       "    <tr>\n",
       "      <th>0</th>\n",
       "      <td>10101 S Stony Island Ave</td>\n",
       "      <td>3</td>\n",
       "    </tr>\n",
       "    <tr>\n",
       "      <th>1</th>\n",
       "      <td>111th St - Morgan Park Metra</td>\n",
       "      <td>12</td>\n",
       "    </tr>\n",
       "    <tr>\n",
       "      <th>2</th>\n",
       "      <td>2112 W Peterson Ave</td>\n",
       "      <td>1852</td>\n",
       "    </tr>\n",
       "    <tr>\n",
       "      <th>3</th>\n",
       "      <td>532 E 43rd St</td>\n",
       "      <td>34</td>\n",
       "    </tr>\n",
       "    <tr>\n",
       "      <th>4</th>\n",
       "      <td>63rd &amp; Western Ave - north corner</td>\n",
       "      <td>13</td>\n",
       "    </tr>\n",
       "    <tr>\n",
       "      <th>...</th>\n",
       "      <td>...</td>\n",
       "      <td>...</td>\n",
       "    </tr>\n",
       "    <tr>\n",
       "      <th>1608</th>\n",
       "      <td>Yates Blvd &amp; 75th St</td>\n",
       "      <td>1237</td>\n",
       "    </tr>\n",
       "    <tr>\n",
       "      <th>1609</th>\n",
       "      <td>Yates Blvd &amp; 93rd St</td>\n",
       "      <td>120</td>\n",
       "    </tr>\n",
       "    <tr>\n",
       "      <th>1610</th>\n",
       "      <td>Yates Blvd &amp; Exchange Ave</td>\n",
       "      <td>13</td>\n",
       "    </tr>\n",
       "    <tr>\n",
       "      <th>1611</th>\n",
       "      <td>Zapata Academy</td>\n",
       "      <td>3</td>\n",
       "    </tr>\n",
       "    <tr>\n",
       "      <th>1612</th>\n",
       "      <td>hubbard_test_lws</td>\n",
       "      <td>3</td>\n",
       "    </tr>\n",
       "  </tbody>\n",
       "</table>\n",
       "<p>1613 rows × 2 columns</p>\n",
       "</div>"
      ],
      "text/plain": [
       "                     start_station_name  count\n",
       "0              10101 S Stony Island Ave      3\n",
       "1          111th St - Morgan Park Metra     12\n",
       "2                   2112 W Peterson Ave   1852\n",
       "3                         532 E 43rd St     34\n",
       "4     63rd & Western Ave - north corner     13\n",
       "...                                 ...    ...\n",
       "1608               Yates Blvd & 75th St   1237\n",
       "1609               Yates Blvd & 93rd St    120\n",
       "1610          Yates Blvd & Exchange Ave     13\n",
       "1611                     Zapata Academy      3\n",
       "1612                   hubbard_test_lws      3\n",
       "\n",
       "[1613 rows x 2 columns]"
      ]
     },
     "execution_count": 45,
     "metadata": {},
     "output_type": "execute_result"
    }
   ],
   "source": [
    "tk = test_trip_k_means.groupby(['start_station_name'])['start_station_name'].count()\n",
    "tk = tk.to_frame()\n",
    "tk.columns = [*tk.columns[:-1], 'count']\n",
    "tk = tk.reset_index()\n",
    "tk"
   ]
  },
  {
   "cell_type": "code",
   "execution_count": 36,
   "id": "brilliant-invitation",
   "metadata": {
    "scrolled": true
   },
   "outputs": [
    {
     "data": {
      "text/html": [
       "<div>\n",
       "<style scoped>\n",
       "    .dataframe tbody tr th:only-of-type {\n",
       "        vertical-align: middle;\n",
       "    }\n",
       "\n",
       "    .dataframe tbody tr th {\n",
       "        vertical-align: top;\n",
       "    }\n",
       "\n",
       "    .dataframe thead th {\n",
       "        text-align: right;\n",
       "    }\n",
       "</style>\n",
       "<table border=\"1\" class=\"dataframe\">\n",
       "  <thead>\n",
       "    <tr style=\"text-align: right;\">\n",
       "      <th></th>\n",
       "      <th>start_station_name</th>\n",
       "      <th>start_lat</th>\n",
       "      <th>start_lng</th>\n",
       "    </tr>\n",
       "  </thead>\n",
       "  <tbody>\n",
       "    <tr>\n",
       "      <th>7421086</th>\n",
       "      <td>Western Ave &amp; Leland Ave</td>\n",
       "      <td>41.966500</td>\n",
       "      <td>-87.688400</td>\n",
       "    </tr>\n",
       "    <tr>\n",
       "      <th>7421087</th>\n",
       "      <td>Clark St &amp; Montrose Ave</td>\n",
       "      <td>41.961600</td>\n",
       "      <td>-87.666000</td>\n",
       "    </tr>\n",
       "    <tr>\n",
       "      <th>7421088</th>\n",
       "      <td>Broadway &amp; Belmont Ave</td>\n",
       "      <td>41.940100</td>\n",
       "      <td>-87.645500</td>\n",
       "    </tr>\n",
       "    <tr>\n",
       "      <th>7421089</th>\n",
       "      <td>Clark St &amp; Randolph St</td>\n",
       "      <td>41.884600</td>\n",
       "      <td>-87.631900</td>\n",
       "    </tr>\n",
       "    <tr>\n",
       "      <th>7421090</th>\n",
       "      <td>Clinton St &amp; Lake St</td>\n",
       "      <td>41.885600</td>\n",
       "      <td>-87.641800</td>\n",
       "    </tr>\n",
       "    <tr>\n",
       "      <th>...</th>\n",
       "      <td>...</td>\n",
       "      <td>...</td>\n",
       "      <td>...</td>\n",
       "    </tr>\n",
       "    <tr>\n",
       "      <th>14013667</th>\n",
       "      <td>Hamilton Park</td>\n",
       "      <td>41.760000</td>\n",
       "      <td>-87.640000</td>\n",
       "    </tr>\n",
       "    <tr>\n",
       "      <th>14018788</th>\n",
       "      <td>Keef Ave &amp; South Chicago Ave</td>\n",
       "      <td>41.770000</td>\n",
       "      <td>-87.610000</td>\n",
       "    </tr>\n",
       "    <tr>\n",
       "      <th>14074104</th>\n",
       "      <td>DuSable Lake Shore Dr &amp; Ohio St</td>\n",
       "      <td>41.892570</td>\n",
       "      <td>-87.614492</td>\n",
       "    </tr>\n",
       "    <tr>\n",
       "      <th>14080516</th>\n",
       "      <td>Halsted St &amp; 18th St (Temp)</td>\n",
       "      <td>41.858371</td>\n",
       "      <td>-87.646388</td>\n",
       "    </tr>\n",
       "    <tr>\n",
       "      <th>14176036</th>\n",
       "      <td>Throop/Hastings Mobile Station</td>\n",
       "      <td>41.851560</td>\n",
       "      <td>-87.659111</td>\n",
       "    </tr>\n",
       "  </tbody>\n",
       "</table>\n",
       "<p>1613 rows × 3 columns</p>\n",
       "</div>"
      ],
      "text/plain": [
       "                       start_station_name  start_lat  start_lng\n",
       "7421086          Western Ave & Leland Ave  41.966500 -87.688400\n",
       "7421087           Clark St & Montrose Ave  41.961600 -87.666000\n",
       "7421088            Broadway & Belmont Ave  41.940100 -87.645500\n",
       "7421089            Clark St & Randolph St  41.884600 -87.631900\n",
       "7421090              Clinton St & Lake St  41.885600 -87.641800\n",
       "...                                   ...        ...        ...\n",
       "14013667                    Hamilton Park  41.760000 -87.640000\n",
       "14018788     Keef Ave & South Chicago Ave  41.770000 -87.610000\n",
       "14074104  DuSable Lake Shore Dr & Ohio St  41.892570 -87.614492\n",
       "14080516      Halsted St & 18th St (Temp)  41.858371 -87.646388\n",
       "14176036   Throop/Hastings Mobile Station  41.851560 -87.659111\n",
       "\n",
       "[1613 rows x 3 columns]"
      ]
     },
     "execution_count": 36,
     "metadata": {},
     "output_type": "execute_result"
    }
   ],
   "source": [
    "test_trip_k_means_no_dup = test_trip_k_means.drop_duplicates(subset=['start_station_name'])\n",
    "test_trip_k_means_no_dup = test_trip_k_means_no_dup.loc[:,['start_station_name', 'start_lat','start_lng']]\n",
    "test_trip_k_means_no_dup"
   ]
  },
  {
   "cell_type": "code",
   "execution_count": 52,
   "id": "documented-billion",
   "metadata": {
    "scrolled": true
   },
   "outputs": [],
   "source": [
    "tk_lat_lng = pd.merge(tk, test_trip_k_means_no_dup , on='start_station_name')"
   ]
  },
  {
   "cell_type": "code",
   "execution_count": 53,
   "id": "wooden-diamond",
   "metadata": {
    "scrolled": true
   },
   "outputs": [
    {
     "data": {
      "text/html": [
       "<div>\n",
       "<style scoped>\n",
       "    .dataframe tbody tr th:only-of-type {\n",
       "        vertical-align: middle;\n",
       "    }\n",
       "\n",
       "    .dataframe tbody tr th {\n",
       "        vertical-align: top;\n",
       "    }\n",
       "\n",
       "    .dataframe thead th {\n",
       "        text-align: right;\n",
       "    }\n",
       "</style>\n",
       "<table border=\"1\" class=\"dataframe\">\n",
       "  <thead>\n",
       "    <tr style=\"text-align: right;\">\n",
       "      <th></th>\n",
       "      <th>start_station_name</th>\n",
       "      <th>count</th>\n",
       "      <th>start_lat</th>\n",
       "      <th>start_lng</th>\n",
       "    </tr>\n",
       "  </thead>\n",
       "  <tbody>\n",
       "    <tr>\n",
       "      <th>0</th>\n",
       "      <td>10101 S Stony Island Ave</td>\n",
       "      <td>3</td>\n",
       "      <td>41.7100</td>\n",
       "      <td>-87.5800</td>\n",
       "    </tr>\n",
       "    <tr>\n",
       "      <th>1</th>\n",
       "      <td>111th St - Morgan Park Metra</td>\n",
       "      <td>12</td>\n",
       "      <td>41.6900</td>\n",
       "      <td>-87.6700</td>\n",
       "    </tr>\n",
       "    <tr>\n",
       "      <th>2</th>\n",
       "      <td>2112 W Peterson Ave</td>\n",
       "      <td>1852</td>\n",
       "      <td>41.9912</td>\n",
       "      <td>-87.6836</td>\n",
       "    </tr>\n",
       "    <tr>\n",
       "      <th>3</th>\n",
       "      <td>532 E 43rd St</td>\n",
       "      <td>34</td>\n",
       "      <td>41.8200</td>\n",
       "      <td>-87.6100</td>\n",
       "    </tr>\n",
       "    <tr>\n",
       "      <th>4</th>\n",
       "      <td>63rd &amp; Western Ave - north corner</td>\n",
       "      <td>13</td>\n",
       "      <td>41.7800</td>\n",
       "      <td>-87.6800</td>\n",
       "    </tr>\n",
       "    <tr>\n",
       "      <th>...</th>\n",
       "      <td>...</td>\n",
       "      <td>...</td>\n",
       "      <td>...</td>\n",
       "      <td>...</td>\n",
       "    </tr>\n",
       "    <tr>\n",
       "      <th>1608</th>\n",
       "      <td>Yates Blvd &amp; 75th St</td>\n",
       "      <td>1237</td>\n",
       "      <td>41.7588</td>\n",
       "      <td>-87.5664</td>\n",
       "    </tr>\n",
       "    <tr>\n",
       "      <th>1609</th>\n",
       "      <td>Yates Blvd &amp; 93rd St</td>\n",
       "      <td>120</td>\n",
       "      <td>41.7300</td>\n",
       "      <td>-87.5700</td>\n",
       "    </tr>\n",
       "    <tr>\n",
       "      <th>1610</th>\n",
       "      <td>Yates Blvd &amp; Exchange Ave</td>\n",
       "      <td>13</td>\n",
       "      <td>41.7700</td>\n",
       "      <td>-87.5700</td>\n",
       "    </tr>\n",
       "    <tr>\n",
       "      <th>1611</th>\n",
       "      <td>Zapata Academy</td>\n",
       "      <td>3</td>\n",
       "      <td>41.8400</td>\n",
       "      <td>-87.7300</td>\n",
       "    </tr>\n",
       "    <tr>\n",
       "      <th>1612</th>\n",
       "      <td>hubbard_test_lws</td>\n",
       "      <td>3</td>\n",
       "      <td>41.8900</td>\n",
       "      <td>-87.6800</td>\n",
       "    </tr>\n",
       "  </tbody>\n",
       "</table>\n",
       "<p>1613 rows × 4 columns</p>\n",
       "</div>"
      ],
      "text/plain": [
       "                     start_station_name  count  start_lat  start_lng\n",
       "0              10101 S Stony Island Ave      3    41.7100   -87.5800\n",
       "1          111th St - Morgan Park Metra     12    41.6900   -87.6700\n",
       "2                   2112 W Peterson Ave   1852    41.9912   -87.6836\n",
       "3                         532 E 43rd St     34    41.8200   -87.6100\n",
       "4     63rd & Western Ave - north corner     13    41.7800   -87.6800\n",
       "...                                 ...    ...        ...        ...\n",
       "1608               Yates Blvd & 75th St   1237    41.7588   -87.5664\n",
       "1609               Yates Blvd & 93rd St    120    41.7300   -87.5700\n",
       "1610          Yates Blvd & Exchange Ave     13    41.7700   -87.5700\n",
       "1611                     Zapata Academy      3    41.8400   -87.7300\n",
       "1612                   hubbard_test_lws      3    41.8900   -87.6800\n",
       "\n",
       "[1613 rows x 4 columns]"
      ]
     },
     "execution_count": 53,
     "metadata": {},
     "output_type": "execute_result"
    }
   ],
   "source": [
    "tk_lat_lng"
   ]
  },
  {
   "cell_type": "code",
   "execution_count": 65,
   "id": "speaking-supply",
   "metadata": {},
   "outputs": [
    {
     "name": "stdout",
     "output_type": "stream",
     "text": [
      "quartile value =  19.0\n",
      "408\n",
      "quartile value =  281.0\n",
      "810\n",
      "quartile value =  4179.0\n",
      "1210\n",
      "quartile value =  98297\n",
      "1613\n"
     ]
    }
   ],
   "source": [
    "quartiles = [0.25, 0.5, 0.75, 1]\n",
    "\n",
    "for quartile in quartiles:\n",
    "    print('quartile value = ', np.quantile(tk_lat_lng['count'], quartile))\n",
    "    print(len(tk_lat_lng[tk_lat_lng['count'] <= np.quantile(tk_lat_lng['count'], quartile)]))"
   ]
  },
  {
   "cell_type": "markdown",
   "id": "timely-characteristic",
   "metadata": {},
   "source": [
    "### Visualizing stations on a plot and coloring the points based on usage"
   ]
  },
  {
   "cell_type": "code",
   "execution_count": 116,
   "id": "proved-tumor",
   "metadata": {},
   "outputs": [],
   "source": [
    "def usage_row(row):\n",
    "    result = ''\n",
    "    if row['count'] <= 5000:\n",
    "        result = 'rare'\n",
    "    elif row['count'] <= 10000:\n",
    "        result = 'moderate'\n",
    "    elif row['count'] <= 40000:\n",
    "        result = 'busy'\n",
    "    elif row['count'] <= 98297:\n",
    "        result = 'very busy'\n",
    "    return result"
   ]
  },
  {
   "cell_type": "code",
   "execution_count": 117,
   "id": "ancient-navigation",
   "metadata": {},
   "outputs": [],
   "source": [
    "tk_lat_lng['station_usage'] = tk_lat_lng.apply(lambda row : usage_row(row), axis=1)"
   ]
  },
  {
   "cell_type": "code",
   "execution_count": 118,
   "id": "beautiful-yellow",
   "metadata": {},
   "outputs": [
    {
     "data": {
      "text/html": [
       "<div>\n",
       "<style scoped>\n",
       "    .dataframe tbody tr th:only-of-type {\n",
       "        vertical-align: middle;\n",
       "    }\n",
       "\n",
       "    .dataframe tbody tr th {\n",
       "        vertical-align: top;\n",
       "    }\n",
       "\n",
       "    .dataframe thead th {\n",
       "        text-align: right;\n",
       "    }\n",
       "</style>\n",
       "<table border=\"1\" class=\"dataframe\">\n",
       "  <thead>\n",
       "    <tr style=\"text-align: right;\">\n",
       "      <th></th>\n",
       "      <th>start_station_name</th>\n",
       "      <th>count</th>\n",
       "      <th>start_lat</th>\n",
       "      <th>start_lng</th>\n",
       "      <th>station_usage</th>\n",
       "      <th>cluster_label</th>\n",
       "    </tr>\n",
       "  </thead>\n",
       "  <tbody>\n",
       "    <tr>\n",
       "      <th>0</th>\n",
       "      <td>10101 S Stony Island Ave</td>\n",
       "      <td>3</td>\n",
       "      <td>41.7100</td>\n",
       "      <td>-87.5800</td>\n",
       "      <td>rare</td>\n",
       "      <td>8</td>\n",
       "    </tr>\n",
       "    <tr>\n",
       "      <th>1</th>\n",
       "      <td>111th St - Morgan Park Metra</td>\n",
       "      <td>12</td>\n",
       "      <td>41.6900</td>\n",
       "      <td>-87.6700</td>\n",
       "      <td>rare</td>\n",
       "      <td>10</td>\n",
       "    </tr>\n",
       "    <tr>\n",
       "      <th>2</th>\n",
       "      <td>2112 W Peterson Ave</td>\n",
       "      <td>1852</td>\n",
       "      <td>41.9912</td>\n",
       "      <td>-87.6836</td>\n",
       "      <td>rare</td>\n",
       "      <td>5</td>\n",
       "    </tr>\n",
       "    <tr>\n",
       "      <th>3</th>\n",
       "      <td>532 E 43rd St</td>\n",
       "      <td>34</td>\n",
       "      <td>41.8200</td>\n",
       "      <td>-87.6100</td>\n",
       "      <td>rare</td>\n",
       "      <td>2</td>\n",
       "    </tr>\n",
       "    <tr>\n",
       "      <th>4</th>\n",
       "      <td>63rd &amp; Western Ave - north corner</td>\n",
       "      <td>13</td>\n",
       "      <td>41.7800</td>\n",
       "      <td>-87.6800</td>\n",
       "      <td>rare</td>\n",
       "      <td>12</td>\n",
       "    </tr>\n",
       "    <tr>\n",
       "      <th>...</th>\n",
       "      <td>...</td>\n",
       "      <td>...</td>\n",
       "      <td>...</td>\n",
       "      <td>...</td>\n",
       "      <td>...</td>\n",
       "      <td>...</td>\n",
       "    </tr>\n",
       "    <tr>\n",
       "      <th>1608</th>\n",
       "      <td>Yates Blvd &amp; 75th St</td>\n",
       "      <td>1237</td>\n",
       "      <td>41.7588</td>\n",
       "      <td>-87.5664</td>\n",
       "      <td>rare</td>\n",
       "      <td>13</td>\n",
       "    </tr>\n",
       "    <tr>\n",
       "      <th>1609</th>\n",
       "      <td>Yates Blvd &amp; 93rd St</td>\n",
       "      <td>120</td>\n",
       "      <td>41.7300</td>\n",
       "      <td>-87.5700</td>\n",
       "      <td>rare</td>\n",
       "      <td>8</td>\n",
       "    </tr>\n",
       "    <tr>\n",
       "      <th>1610</th>\n",
       "      <td>Yates Blvd &amp; Exchange Ave</td>\n",
       "      <td>13</td>\n",
       "      <td>41.7700</td>\n",
       "      <td>-87.5700</td>\n",
       "      <td>rare</td>\n",
       "      <td>13</td>\n",
       "    </tr>\n",
       "    <tr>\n",
       "      <th>1611</th>\n",
       "      <td>Zapata Academy</td>\n",
       "      <td>3</td>\n",
       "      <td>41.8400</td>\n",
       "      <td>-87.7300</td>\n",
       "      <td>rare</td>\n",
       "      <td>7</td>\n",
       "    </tr>\n",
       "    <tr>\n",
       "      <th>1612</th>\n",
       "      <td>hubbard_test_lws</td>\n",
       "      <td>3</td>\n",
       "      <td>41.8900</td>\n",
       "      <td>-87.6800</td>\n",
       "      <td>rare</td>\n",
       "      <td>7</td>\n",
       "    </tr>\n",
       "  </tbody>\n",
       "</table>\n",
       "<p>1613 rows × 6 columns</p>\n",
       "</div>"
      ],
      "text/plain": [
       "                     start_station_name  count  start_lat  start_lng  \\\n",
       "0              10101 S Stony Island Ave      3    41.7100   -87.5800   \n",
       "1          111th St - Morgan Park Metra     12    41.6900   -87.6700   \n",
       "2                   2112 W Peterson Ave   1852    41.9912   -87.6836   \n",
       "3                         532 E 43rd St     34    41.8200   -87.6100   \n",
       "4     63rd & Western Ave - north corner     13    41.7800   -87.6800   \n",
       "...                                 ...    ...        ...        ...   \n",
       "1608               Yates Blvd & 75th St   1237    41.7588   -87.5664   \n",
       "1609               Yates Blvd & 93rd St    120    41.7300   -87.5700   \n",
       "1610          Yates Blvd & Exchange Ave     13    41.7700   -87.5700   \n",
       "1611                     Zapata Academy      3    41.8400   -87.7300   \n",
       "1612                   hubbard_test_lws      3    41.8900   -87.6800   \n",
       "\n",
       "     station_usage  cluster_label  \n",
       "0             rare              8  \n",
       "1             rare             10  \n",
       "2             rare              5  \n",
       "3             rare              2  \n",
       "4             rare             12  \n",
       "...            ...            ...  \n",
       "1608          rare             13  \n",
       "1609          rare              8  \n",
       "1610          rare             13  \n",
       "1611          rare              7  \n",
       "1612          rare              7  \n",
       "\n",
       "[1613 rows x 6 columns]"
      ]
     },
     "execution_count": 118,
     "metadata": {},
     "output_type": "execute_result"
    }
   ],
   "source": [
    "tk_lat_lng"
   ]
  },
  {
   "cell_type": "code",
   "execution_count": 119,
   "id": "interstate-canal",
   "metadata": {},
   "outputs": [],
   "source": [
    "from sklearn.cluster import KMeans"
   ]
  },
  {
   "cell_type": "code",
   "execution_count": 120,
   "id": "toxic-capability",
   "metadata": {},
   "outputs": [
    {
     "name": "stderr",
     "output_type": "stream",
     "text": [
      "D:\\anaconda3\\envs\\tf-gpu\\lib\\site-packages\\sklearn\\cluster\\_kmeans.py:881: UserWarning: KMeans is known to have a memory leak on Windows with MKL, when there are less chunks than available threads. You can avoid it by setting the environment variable OMP_NUM_THREADS=7.\n",
      "  warnings.warn(\n"
     ]
    },
    {
     "data": {
      "image/png": "[encoded data removed]",
      "text/plain": [
       "<Figure size 432x288 with 1 Axes>"
      ]
     },
     "metadata": {
      "needs_background": "light"
     },
     "output_type": "display_data"
    }
   ],
   "source": [
    "K_clusters = range(1,10)\n",
    "kmeans = [KMeans(n_clusters=i) for i in K_clusters]\n",
    "\n",
    "Y_axis = tk_lat_lng[['start_lat']]\n",
    "X_axis = tk_lat_lng[['start_lng']]\n",
    "\n",
    "score = [kmeans[i].fit(Y_axis).score(Y_axis) for i in range(len(kmeans))]\n",
    "\n",
    "plt.plot(K_clusters, score)\n",
    "plt.xlabel('Number of clusters')\n",
    "plt.ylabel('Score')\n",
    "plt.title('Elbow curve')\n",
    "plt.show()"
   ]
  },
  {
   "cell_type": "code",
   "execution_count": 121,
   "id": "southeast-capital",
   "metadata": {},
   "outputs": [
    {
     "data": {
      "text/html": [
       "<div>\n",
       "<style scoped>\n",
       "    .dataframe tbody tr th:only-of-type {\n",
       "        vertical-align: middle;\n",
       "    }\n",
       "\n",
       "    .dataframe tbody tr th {\n",
       "        vertical-align: top;\n",
       "    }\n",
       "\n",
       "    .dataframe thead th {\n",
       "        text-align: right;\n",
       "    }\n",
       "</style>\n",
       "<table border=\"1\" class=\"dataframe\">\n",
       "  <thead>\n",
       "    <tr style=\"text-align: right;\">\n",
       "      <th></th>\n",
       "      <th>start_station_name</th>\n",
       "      <th>count</th>\n",
       "      <th>start_lat</th>\n",
       "      <th>start_lng</th>\n",
       "      <th>station_usage</th>\n",
       "      <th>cluster_label</th>\n",
       "    </tr>\n",
       "  </thead>\n",
       "  <tbody>\n",
       "    <tr>\n",
       "      <th>0</th>\n",
       "      <td>10101 S Stony Island Ave</td>\n",
       "      <td>3</td>\n",
       "      <td>41.7100</td>\n",
       "      <td>-87.5800</td>\n",
       "      <td>rare</td>\n",
       "      <td>5</td>\n",
       "    </tr>\n",
       "    <tr>\n",
       "      <th>1</th>\n",
       "      <td>111th St - Morgan Park Metra</td>\n",
       "      <td>12</td>\n",
       "      <td>41.6900</td>\n",
       "      <td>-87.6700</td>\n",
       "      <td>rare</td>\n",
       "      <td>13</td>\n",
       "    </tr>\n",
       "    <tr>\n",
       "      <th>2</th>\n",
       "      <td>2112 W Peterson Ave</td>\n",
       "      <td>1852</td>\n",
       "      <td>41.9912</td>\n",
       "      <td>-87.6836</td>\n",
       "      <td>rare</td>\n",
       "      <td>3</td>\n",
       "    </tr>\n",
       "    <tr>\n",
       "      <th>3</th>\n",
       "      <td>532 E 43rd St</td>\n",
       "      <td>34</td>\n",
       "      <td>41.8200</td>\n",
       "      <td>-87.6100</td>\n",
       "      <td>rare</td>\n",
       "      <td>6</td>\n",
       "    </tr>\n",
       "    <tr>\n",
       "      <th>4</th>\n",
       "      <td>63rd &amp; Western Ave - north corner</td>\n",
       "      <td>13</td>\n",
       "      <td>41.7800</td>\n",
       "      <td>-87.6800</td>\n",
       "      <td>rare</td>\n",
       "      <td>14</td>\n",
       "    </tr>\n",
       "    <tr>\n",
       "      <th>...</th>\n",
       "      <td>...</td>\n",
       "      <td>...</td>\n",
       "      <td>...</td>\n",
       "      <td>...</td>\n",
       "      <td>...</td>\n",
       "      <td>...</td>\n",
       "    </tr>\n",
       "    <tr>\n",
       "      <th>1608</th>\n",
       "      <td>Yates Blvd &amp; 75th St</td>\n",
       "      <td>1237</td>\n",
       "      <td>41.7588</td>\n",
       "      <td>-87.5664</td>\n",
       "      <td>rare</td>\n",
       "      <td>7</td>\n",
       "    </tr>\n",
       "    <tr>\n",
       "      <th>1609</th>\n",
       "      <td>Yates Blvd &amp; 93rd St</td>\n",
       "      <td>120</td>\n",
       "      <td>41.7300</td>\n",
       "      <td>-87.5700</td>\n",
       "      <td>rare</td>\n",
       "      <td>5</td>\n",
       "    </tr>\n",
       "    <tr>\n",
       "      <th>1610</th>\n",
       "      <td>Yates Blvd &amp; Exchange Ave</td>\n",
       "      <td>13</td>\n",
       "      <td>41.7700</td>\n",
       "      <td>-87.5700</td>\n",
       "      <td>rare</td>\n",
       "      <td>7</td>\n",
       "    </tr>\n",
       "    <tr>\n",
       "      <th>1611</th>\n",
       "      <td>Zapata Academy</td>\n",
       "      <td>3</td>\n",
       "      <td>41.8400</td>\n",
       "      <td>-87.7300</td>\n",
       "      <td>rare</td>\n",
       "      <td>11</td>\n",
       "    </tr>\n",
       "    <tr>\n",
       "      <th>1612</th>\n",
       "      <td>hubbard_test_lws</td>\n",
       "      <td>3</td>\n",
       "      <td>41.8900</td>\n",
       "      <td>-87.6800</td>\n",
       "      <td>rare</td>\n",
       "      <td>11</td>\n",
       "    </tr>\n",
       "  </tbody>\n",
       "</table>\n",
       "<p>1613 rows × 6 columns</p>\n",
       "</div>"
      ],
      "text/plain": [
       "                     start_station_name  count  start_lat  start_lng  \\\n",
       "0              10101 S Stony Island Ave      3    41.7100   -87.5800   \n",
       "1          111th St - Morgan Park Metra     12    41.6900   -87.6700   \n",
       "2                   2112 W Peterson Ave   1852    41.9912   -87.6836   \n",
       "3                         532 E 43rd St     34    41.8200   -87.6100   \n",
       "4     63rd & Western Ave - north corner     13    41.7800   -87.6800   \n",
       "...                                 ...    ...        ...        ...   \n",
       "1608               Yates Blvd & 75th St   1237    41.7588   -87.5664   \n",
       "1609               Yates Blvd & 93rd St    120    41.7300   -87.5700   \n",
       "1610          Yates Blvd & Exchange Ave     13    41.7700   -87.5700   \n",
       "1611                     Zapata Academy      3    41.8400   -87.7300   \n",
       "1612                   hubbard_test_lws      3    41.8900   -87.6800   \n",
       "\n",
       "     station_usage  cluster_label  \n",
       "0             rare              5  \n",
       "1             rare             13  \n",
       "2             rare              3  \n",
       "3             rare              6  \n",
       "4             rare             14  \n",
       "...            ...            ...  \n",
       "1608          rare              7  \n",
       "1609          rare              5  \n",
       "1610          rare              7  \n",
       "1611          rare             11  \n",
       "1612          rare             11  \n",
       "\n",
       "[1613 rows x 6 columns]"
      ]
     },
     "execution_count": 121,
     "metadata": {},
     "output_type": "execute_result"
    }
   ],
   "source": [
    "kmeans = KMeans(n_clusters=15, init='k-means++')\n",
    "kmeans.fit(tk_lat_lng.loc[:, ['start_lat', 'start_lng']])\n",
    "\n",
    "tk_lat_lng['cluster_label'] = kmeans.fit_predict(tk_lat_lng.loc[:, ['start_lat', 'start_lng']])\n",
    "centers = kmeans.cluster_centers_\n",
    "\n",
    "tk_lat_lng"
   ]
  },
  {
   "cell_type": "code",
   "execution_count": 122,
   "id": "immune-paragraph",
   "metadata": {},
   "outputs": [],
   "source": [
    "labels = kmeans.predict(tk_lat_lng.loc[:, ['start_lat', 'start_lng']])"
   ]
  },
  {
   "cell_type": "code",
   "execution_count": 123,
   "id": "applicable-glasgow",
   "metadata": {},
   "outputs": [
    {
     "data": {
      "text/plain": [
       "0     200\n",
       "8     146\n",
       "11    142\n",
       "7     129\n",
       "10    129\n",
       "9     125\n",
       "14    115\n",
       "2     106\n",
       "3     105\n",
       "6      97\n",
       "12     95\n",
       "5      78\n",
       "4      73\n",
       "13     72\n",
       "1       1\n",
       "Name: cluster_label, dtype: int64"
      ]
     },
     "execution_count": 123,
     "metadata": {},
     "output_type": "execute_result"
    }
   ],
   "source": [
    "tk_lat_lng['cluster_label'].value_counts()"
   ]
  },
  {
   "cell_type": "code",
   "execution_count": 125,
   "id": "tight-division",
   "metadata": {},
   "outputs": [
    {
     "data": {
      "text/plain": [
       "0     200\n",
       "8     146\n",
       "11    142\n",
       "7     129\n",
       "10    129\n",
       "9     125\n",
       "14    115\n",
       "2     106\n",
       "3     105\n",
       "6      97\n",
       "12     95\n",
       "5      78\n",
       "4      73\n",
       "13     72\n",
       "Name: cluster_label, dtype: int64"
      ]
     },
     "execution_count": 125,
     "metadata": {},
     "output_type": "execute_result"
    }
   ],
   "source": [
    "tk_lat_lng_remove_1 = tk_lat_lng[tk_lat_lng['cluster_label'] != 1]\n",
    "tk_lat_lng_remove_1['cluster_label'].value_counts()"
   ]
  },
  {
   "cell_type": "code",
   "execution_count": 133,
   "id": "increased-uncertainty",
   "metadata": {
    "scrolled": false
   },
   "outputs": [
    {
     "data": {
      "text/plain": [
       "<AxesSubplot:xlabel='start_lng', ylabel='start_lat'>"
      ]
     },
     "execution_count": 133,
     "metadata": {},
     "output_type": "execute_result"
    },
    {
     "data": {
      "image/png": "[encoded data removed]",
      "text/plain": [
       "<Figure size 432x288 with 1 Axes>"
      ]
     },
     "metadata": {
      "needs_background": "light"
     },
     "output_type": "display_data"
    }
   ],
   "source": [
    "sns.scatterplot(data=tk_lat_lng_remove_1, x = 'start_lng', y='start_lat', hue='station_usage')"
   ]
  },
  {
   "cell_type": "markdown",
   "id": "worse-methodology",
   "metadata": {},
   "source": [
    "Here, it can be seen that most stations are underutilized. Hence more stations could be relocated to the areas with more demand and some stations could also be put out of commission to save costs."
   ]
  }
 ],
 "metadata": {
  "kernelspec": {
   "display_name": "Python 3",
   "language": "python",
   "name": "python3"
  },
  "language_info": {
   "codemirror_mode": {
    "name": "ipython",
    "version": 3
   },
   "file_extension": ".py",
   "mimetype": "text/x-python",
   "name": "python",
   "nbconvert_exporter": "python",
   "pygments_lexer": "ipython3",
   "version": "3.8.5"
  }
 },
 "nbformat": 4,
 "nbformat_minor": 5
}
