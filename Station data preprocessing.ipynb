{
 "cells": [
  {
   "cell_type": "code",
   "execution_count": 1,
   "id": "855fc61a",
   "metadata": {},
   "outputs": [],
   "source": [
    "import numpy as np\n",
    "import pandas as pd\n",
    "import math"
   ]
  },
  {
   "cell_type": "markdown",
   "id": "3e150549",
   "metadata": {},
   "source": [
    "The purpose here is to aggregate the station data which is currently at 10 min level to an hourly level to reduce rows which will help in increasing processing speed and also increase variance in the station activity and then combine data from each year into one file"
   ]
  },
  {
   "cell_type": "markdown",
   "id": "db968c6d",
   "metadata": {},
   "source": [
    "### Defining aggregate functions for each columns"
   ]
  },
  {
   "cell_type": "code",
   "execution_count": null,
   "id": "db35a401",
   "metadata": {},
   "outputs": [],
   "source": [
    "aggregate = {'ID':'max','Timestamp':'min','Station Name':'min','Address':'min','Total Docks':'mean','Docks in Service':'mean',\n",
    "            'Available Docks':'mean','Available Bikes':'mean','Percent Full':'mean','Status':'min','Latitude':'min','Longitude':'min'}"
   ]
  },
  {
   "cell_type": "markdown",
   "id": "ee245a86",
   "metadata": {},
   "source": [
    "### 2018  data"
   ]
  },
  {
   "cell_type": "code",
   "execution_count": null,
   "id": "3d163dbd",
   "metadata": {},
   "outputs": [],
   "source": [
    "df_station_18 = pd.read_csv(\"Station Data/Divvy_Bicycle_Stations_-_Historical_2018.csv\")\n",
    "df_station_18['Timestamp'] = pd.to_datetime(df_station_18['Timestamp'])\n",
    "df_18 = df_station_18.groupby(by=[df_station_18['Timestamp'].dt.date,df_station_18['Timestamp'].dt.hour,'ID'],as_index=False).agg(aggregate)"
   ]
  },
  {
   "cell_type": "markdown",
   "id": "58f5485d",
   "metadata": {},
   "source": [
    "### 2019 data"
   ]
  },
  {
   "cell_type": "code",
   "execution_count": null,
   "id": "7ccb36a0",
   "metadata": {},
   "outputs": [],
   "source": [
    "df_station_19 = pd.read_csv(\"Station Data/Divvy_Bicycle_Stations_-_Historical_2019.csv\")\n",
    "df_station_19['Timestamp'] = pd.to_datetime(df_station_19['Timestamp'])\n",
    "df_19 = df_station_19.groupby(by=[df_station_19['Timestamp'].dt.date,df_station_19['Timestamp'].dt.hour,'ID'],as_index=False).agg(aggregate)"
   ]
  },
  {
   "cell_type": "markdown",
   "id": "eb33b676",
   "metadata": {},
   "source": [
    "### 2020 data"
   ]
  },
  {
   "cell_type": "code",
   "execution_count": null,
   "id": "8b814e61",
   "metadata": {},
   "outputs": [],
   "source": [
    "df_station_20 = pd.read_csv(\"Station Data/Divvy_Bicycle_Stations_-_Historical_2020.csv\")\n",
    "df_station_20['Timestamp'] = pd.to_datetime(df_station_20['Timestamp'])\n",
    "df_20 = df_station_20.groupby(by=[df_station_20['Timestamp'].dt.date,df_station_20['Timestamp'].dt.hour,'ID'],as_index=False).agg(aggregate)"
   ]
  },
  {
   "cell_type": "markdown",
   "id": "adf52a6c",
   "metadata": {},
   "source": [
    "### 2021 data"
   ]
  },
  {
   "cell_type": "code",
   "execution_count": null,
   "id": "6c3b61ef",
   "metadata": {},
   "outputs": [],
   "source": [
    "df_station_21 = pd.read_csv(\"Station Data/Divvy_Bicycle_Stations_-_Historical_2021.csv\")\n",
    "df_station_21['Timestamp'] = pd.to_datetime(df_station_21['Timestamp'])\n",
    "df_21 = df_station_21.groupby(by=[df_station_21['Timestamp'].dt.date,df_station_21['Timestamp'].dt.hour,'ID'],as_index=False).agg(aggregate)"
   ]
  },
  {
   "cell_type": "markdown",
   "id": "fdff26b6",
   "metadata": {},
   "source": [
    "### 2022 data"
   ]
  },
  {
   "cell_type": "code",
   "execution_count": null,
   "id": "d95be972",
   "metadata": {},
   "outputs": [],
   "source": [
    "df_station_22 = pd.read_csv(\"Station Data/Divvy_Bicycle_Stations_-_Historical_2022.csv\")\n",
    "df_station_22['Timestamp'] = pd.to_datetime(df_station_22['Timestamp'])\n",
    "df_22 = df_station_22.groupby(by=[df_station_22['Timestamp'].dt.date,df_station_22['Timestamp'].dt.hour,'ID'],as_index=False).agg(aggregate)"
   ]
  },
  {
   "cell_type": "markdown",
   "id": "7a776d4a",
   "metadata": {},
   "source": [
    "## Combining all the yearly aggregated station data from 2018-2022"
   ]
  },
  {
   "cell_type": "code",
   "execution_count": null,
   "id": "655a41a6",
   "metadata": {},
   "outputs": [],
   "source": [
    "df_station = pd.concat([df_18,df_19,df_20,df_21,df_22])\n",
    "df_station.to_csv('Processed Data/Divvy_Bicycle_Stations_-_Historical_hourly.csv',index=False)"
   ]
  }
 ],
 "metadata": {
  "kernelspec": {
   "display_name": "Python 3 (ipykernel)",
   "language": "python",
   "name": "python3"
  },
  "language_info": {
   "codemirror_mode": {
    "name": "ipython",
    "version": 3
   },
   "file_extension": ".py",
   "mimetype": "text/x-python",
   "name": "python",
   "nbconvert_exporter": "python",
   "pygments_lexer": "ipython3",
   "version": "3.10.6"
  }
 },
 "nbformat": 4,
 "nbformat_minor": 5
}
